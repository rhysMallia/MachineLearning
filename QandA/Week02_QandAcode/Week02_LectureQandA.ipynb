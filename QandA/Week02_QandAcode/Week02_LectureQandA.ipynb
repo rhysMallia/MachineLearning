{
 "cells": [
  {
   "cell_type": "markdown",
   "metadata": {},
   "source": [
    "---\n",
    "# <div align=\"center\"><font color='green'> COSC 2673/2793 | Machine Learning  </font></div>\n",
    "## <div align=\"center\"> <font color='green'> **Example: Week02 Lecture QandA**</font></div>\n",
    "---"
   ]
  },
  {
   "cell_type": "markdown",
   "metadata": {},
   "source": [
    "Demo code for week 02 Lecture QandA. The task is to predict the proportion of people living in poverty for some local regions in the US. The dataset consists features relating to the demographics of these regions.\n",
    "\n",
    "**Disclaimer:** The code is done quickly to demonstrate some important concepts in regression and should not be considered as an adequate approach to solve the above task."
   ]
  },
  {
   "cell_type": "markdown",
   "metadata": {},
   "source": [
    "## Reading Data & some visualizations\n",
    "Read data into a data frame"
   ]
  },
  {
   "cell_type": "code",
   "execution_count": null,
   "metadata": {},
   "outputs": [],
   "source": [
    "import pandas as pd\n",
    "import matplotlib.pyplot as plt\n",
    "import numpy as np\n",
    "\n",
    "data = pd.read_csv('train.csv', delimiter=',')\n",
    "data.head()"
   ]
  },
  {
   "cell_type": "markdown",
   "metadata": {},
   "source": [
    "It is always good to visualize data before starting the model development phase. I have only done few visualizations here. Data visualization and EDA is discussed in detail in labs. Lets visualize the training data"
   ]
  },
  {
   "cell_type": "code",
   "execution_count": null,
   "metadata": {},
   "outputs": [],
   "source": [
    "plt.figure(figsize=(25,30))\n",
    "for i, col in enumerate(data.columns):\n",
    "    plt.subplot(6,5,i+1)\n",
    "    plt.hist(data[col], alpha=0.3, color='b', density=True)\n",
    "    plt.title(col)\n",
    "    plt.xticks(rotation='vertical')"
   ]
  },
  {
   "cell_type": "code",
   "execution_count": null,
   "metadata": {},
   "outputs": [],
   "source": [
    "import seaborn as sns\n",
    "plt.figure(figsize=(25,30))\n",
    "for i, col in enumerate(data.columns):\n",
    "    plt.subplot(6,5,i+1)\n",
    "    sns.scatterplot(data=data, x=col, y='TARGET_poverty')\n",
    "    # sns.regplot(x=col,y='MEDV', data=bostonHouseFrame)\n",
    "    plt.title(col)\n",
    "\n",
    "\n",
    "plt.xticks(rotation='vertical')\n",
    "plt.show()"
   ]
  },
  {
   "cell_type": "markdown",
   "metadata": {},
   "source": [
    "## Test (unseen) data \n",
    "Hold out some data for testing (simulated unseen data)"
   ]
  },
  {
   "cell_type": "code",
   "execution_count": null,
   "metadata": {},
   "outputs": [],
   "source": [
    "from sklearn.model_selection import train_test_split\n",
    "\n",
    "with pd.option_context('mode.chained_assignment', None):\n",
    "    train_data, test_data = train_test_split(data, test_size=0.2, shuffle=True)"
   ]
  },
  {
   "cell_type": "markdown",
   "metadata": {},
   "source": [
    "## Univariate Linear regression\n",
    "\n",
    "Lets first try univariate regression technique. For this part we will use the `percent_unemployment` as the attribute (independent variable), and the dependent variable is `TARGET_poverty`."
   ]
  },
  {
   "cell_type": "code",
   "execution_count": null,
   "metadata": {},
   "outputs": [],
   "source": [
    "x_train = train_data[['percent_unemployment']]\n",
    "y_train = train_data[['TARGET_poverty']]"
   ]
  },
  {
   "cell_type": "code",
   "execution_count": null,
   "metadata": {},
   "outputs": [],
   "source": [
    "plt.scatter(x_train,y_train)\n",
    "plt.xlabel('percent_unemployment')\n",
    "plt.ylabel('TARGET_poverty')\n",
    "plt.show()"
   ]
  },
  {
   "cell_type": "code",
   "execution_count": null,
   "metadata": {},
   "outputs": [],
   "source": [
    "from sklearn.linear_model import LinearRegression\n",
    "\n",
    "reg_lin = LinearRegression().fit(x_train, y_train)"
   ]
  },
  {
   "cell_type": "code",
   "execution_count": null,
   "metadata": {},
   "outputs": [],
   "source": [
    "print (\"Theta1 = {:.3f}, Theta0 = {:.3f}\".format(reg_lin.coef_[0][0], reg_lin.intercept_[0]))"
   ]
  },
  {
   "cell_type": "markdown",
   "metadata": {},
   "source": [
    "Lets plot the optimal hypothesis with the data"
   ]
  },
  {
   "cell_type": "code",
   "execution_count": null,
   "metadata": {},
   "outputs": [],
   "source": [
    "# y = mx+c\n",
    "x_hyp = np.linspace(0,35,100)\n",
    "y_hyp = x_hyp*reg_lin.coef_[0][0] + reg_lin.intercept_[0]\n",
    "\n",
    "\n",
    "plt.scatter(x_train,y_train)\n",
    "plt.plot(x_hyp, y_hyp, 'r-')\n",
    "plt.xlabel('percent_unemployment')\n",
    "plt.ylabel('TARGET_poverty')\n",
    "plt.show()"
   ]
  },
  {
   "cell_type": "code",
   "execution_count": null,
   "metadata": {},
   "outputs": [],
   "source": [
    "y_train_hat = reg_lin.predict(x_train)"
   ]
  },
  {
   "cell_type": "code",
   "execution_count": null,
   "metadata": {},
   "outputs": [],
   "source": [
    "mean_square_error_train = np.sqrt(np.mean((y_train - y_train_hat)**2))\n",
    "print(\"Root Mean squared error (train data): {:.3f}\".format(mean_square_error_train['TARGET_poverty']))"
   ]
  },
  {
   "cell_type": "code",
   "execution_count": null,
   "metadata": {},
   "outputs": [],
   "source": [
    "x_test = test_data[['percent_unemployment']]\n",
    "y_test = test_data[['TARGET_poverty']]\n",
    "\n",
    "y_test_hat = reg_lin.predict(x_test)\n",
    "\n",
    "mean_square_error_test = np.sqrt(np.mean((y_test - y_test_hat)**2))\n",
    "print(\"Root Mean squared error (test data): {:.3f}\".format(mean_square_error_test['TARGET_poverty']))"
   ]
  },
  {
   "cell_type": "markdown",
   "metadata": {},
   "source": [
    "Plot of train and test data"
   ]
  },
  {
   "cell_type": "code",
   "execution_count": null,
   "metadata": {},
   "outputs": [],
   "source": [
    "plt.scatter(x_train,y_train)\n",
    "plt.scatter(x_test,y_test)\n",
    "plt.xlabel('percent_unemployment')\n",
    "plt.ylabel('TARGET_poverty')\n",
    "plt.legend(['Train Data', 'Test data'])\n",
    "plt.show()"
   ]
  },
  {
   "cell_type": "markdown",
   "metadata": {},
   "source": [
    "### Lets take another independent variable. This time `income_per_capita`"
   ]
  },
  {
   "cell_type": "code",
   "execution_count": null,
   "metadata": {},
   "outputs": [],
   "source": [
    "x_train2 = train_data[['income_per_capita']]\n",
    "y_train2 = train_data[['TARGET_poverty']]"
   ]
  },
  {
   "cell_type": "code",
   "execution_count": null,
   "metadata": {},
   "outputs": [],
   "source": [
    "reg_lin2 = LinearRegression().fit(x_train2, y_train2)\n",
    "print (\"Theta1 = {:.3f}, Theta0 = {:.3f}\".format(reg_lin2.coef_[0][0], reg_lin2.intercept_[0]))"
   ]
  },
  {
   "cell_type": "code",
   "execution_count": null,
   "metadata": {},
   "outputs": [],
   "source": [
    "y_train2_hat = reg_lin2.predict(x_train2)\n",
    "mean_square_error = np.sqrt(np.mean((y_train2 - y_train2_hat)**2))\n",
    "print(\"Root Mean squared error (train data): {:.3f}\".format(mean_square_error['TARGET_poverty']))"
   ]
  },
  {
   "cell_type": "code",
   "execution_count": null,
   "metadata": {},
   "outputs": [],
   "source": [
    "x_test2 = test_data[['income_per_capita']]\n",
    "y_test2 = test_data[['TARGET_poverty']]\n",
    "\n",
    "y_test2_hat = reg_lin2.predict(x_test2)\n",
    "\n",
    "mean_square_error_test = np.sqrt(np.mean((y_test2 - y_test2_hat)**2))\n",
    "print(\"Root Mean squared error (test data): {:.3f}\".format(mean_square_error_test['TARGET_poverty']))"
   ]
  },
  {
   "cell_type": "code",
   "execution_count": null,
   "metadata": {},
   "outputs": [],
   "source": [
    "# y = mx+c\n",
    "x_hyp = np.linspace(0,70000,100)\n",
    "y_hyp = x_hyp*reg_lin2.coef_[0][0] + reg_lin2.intercept_[0]\n",
    "\n",
    "plt.scatter(x_train2,y_train2)\n",
    "plt.scatter(x_test2,y_test2)\n",
    "plt.plot(x_hyp, y_hyp, 'r-')\n",
    "plt.xlabel('income_per_capita')\n",
    "plt.ylabel('TARGET_poverty')\n",
    "plt.legend(['Train Data', 'Test data'])\n",
    "plt.show()"
   ]
  },
  {
   "cell_type": "markdown",
   "metadata": {},
   "source": [
    "## Univariate Polynomial Regression\n",
    "\n",
    "The linear model does not have enough capacity to represent the relationship between  `TARGET_poverty` and `income_per_capita`\n",
    "\n",
    "**How can we increase the capacity of the model?**"
   ]
  },
  {
   "cell_type": "code",
   "execution_count": null,
   "metadata": {},
   "outputs": [],
   "source": [
    "x_train = train_data[['income_per_capita']]\n",
    "y_train = train_data[['TARGET_poverty']]"
   ]
  },
  {
   "cell_type": "markdown",
   "metadata": {},
   "source": [
    "Convert the features to Polynomial features. We can alter the capacity of the model with the hyper parameter polynomial degree. "
   ]
  },
  {
   "cell_type": "code",
   "execution_count": null,
   "metadata": {},
   "outputs": [],
   "source": [
    "from sklearn.preprocessing import PolynomialFeatures\n",
    "\n",
    "poly = PolynomialFeatures(4)\n",
    "poly.fit(x_train)\n",
    "x_train_poly = poly.transform(x_train)"
   ]
  },
  {
   "cell_type": "code",
   "execution_count": null,
   "metadata": {},
   "outputs": [],
   "source": [
    "print('shape of x:', x_train.shape)\n",
    "print('shape of polynormial x:', x_train_poly.shape)"
   ]
  },
  {
   "cell_type": "code",
   "execution_count": null,
   "metadata": {},
   "outputs": [],
   "source": [
    "reg_poly = LinearRegression().fit(x_train_poly, y_train)"
   ]
  },
  {
   "cell_type": "code",
   "execution_count": null,
   "metadata": {},
   "outputs": [],
   "source": [
    "x_hyp = np.linspace(0,70000,100)\n",
    "x_hyp_poly = poly.transform(x_hyp.reshape(-1, 1))\n",
    "y_hyp = reg_poly.predict(x_hyp_poly)\n",
    "\n",
    "plt.scatter(x_train,y_train)\n",
    "plt.plot(x_hyp, y_hyp, 'r-')\n",
    "plt.xlabel('percent_unemployment')\n",
    "plt.ylabel('TARGET_poverty')\n",
    "plt.legend(['Train Data', 'Test data'])\n",
    "plt.show()"
   ]
  },
  {
   "cell_type": "code",
   "execution_count": null,
   "metadata": {},
   "outputs": [],
   "source": [
    "y_train_hat = reg_poly.predict(x_train_poly)\n",
    "mean_square_error = np.sqrt(np.mean((y_train - y_train_hat)**2))\n",
    "print(\"Root Mean squared error (train data): {:.3f}\".format(mean_square_error['TARGET_poverty']))"
   ]
  },
  {
   "cell_type": "code",
   "execution_count": null,
   "metadata": {},
   "outputs": [],
   "source": [
    "x_test = test_data[['income_per_capita']]\n",
    "y_test = test_data[['TARGET_poverty']]\n",
    "\n",
    "x_test_poly = poly.transform(x_test)\n",
    "y_test_hat = reg_poly.predict(x_test_poly)\n",
    "\n",
    "mean_square_error_test = np.sqrt(np.mean((y_test - y_test_hat)**2))\n",
    "print(\"Root Mean squared error (test data): {:.3f}\".format(mean_square_error_test['TARGET_poverty']))"
   ]
  },
  {
   "cell_type": "markdown",
   "metadata": {},
   "source": [
    "## Multivariate Linear Regression"
   ]
  },
  {
   "cell_type": "code",
   "execution_count": null,
   "metadata": {},
   "outputs": [],
   "source": [
    "X_train = train_data.drop(['TARGET_poverty', 'id'], axis=1)\n",
    "y_train = train_data[['TARGET_poverty']]"
   ]
  },
  {
   "cell_type": "code",
   "execution_count": null,
   "metadata": {},
   "outputs": [],
   "source": [
    "multi_reg_lin = LinearRegression().fit(X_train, y_train)"
   ]
  },
  {
   "cell_type": "code",
   "execution_count": null,
   "metadata": {},
   "outputs": [],
   "source": [
    "y_train_hat = multi_reg_lin.predict(X_train)\n",
    "\n",
    "mean_square_error_train = np.sqrt(np.mean((y_train - y_train_hat)**2))\n",
    "print(\"Root Mean squared error (train data): {:.3f}\".format(mean_square_error_train['TARGET_poverty']))"
   ]
  },
  {
   "cell_type": "code",
   "execution_count": null,
   "metadata": {},
   "outputs": [],
   "source": [
    "X_test = test_data.drop(['TARGET_poverty', 'id'], axis=1)\n",
    "y_test = test_data[['TARGET_poverty']]\n",
    "\n",
    "y_test_hat = multi_reg_lin.predict(X_test)\n",
    "\n",
    "mean_square_error_test = np.sqrt(np.mean((y_test - y_test_hat)**2))\n",
    "print(\"Root Mean squared error (test data): {:.3f}\".format(mean_square_error_test['TARGET_poverty']))"
   ]
  },
  {
   "cell_type": "code",
   "execution_count": null,
   "metadata": {},
   "outputs": [],
   "source": [
    "plt.scatter(y_test, y_test_hat)\n",
    "plt.xlabel('Target Value')\n",
    "plt.ylabel('Predicted Value')\n",
    "plt.show()"
   ]
  },
  {
   "cell_type": "markdown",
   "metadata": {},
   "source": [
    "## Multivariate Polynomial Regression"
   ]
  },
  {
   "cell_type": "code",
   "execution_count": null,
   "metadata": {},
   "outputs": [],
   "source": [
    "X_train = train_data.drop(['TARGET_poverty', 'id'], axis=1)\n",
    "y_train = train_data[['TARGET_poverty']]"
   ]
  },
  {
   "cell_type": "code",
   "execution_count": null,
   "metadata": {},
   "outputs": [],
   "source": [
    "poly = PolynomialFeatures(2)\n",
    "poly.fit(X_train)\n",
    "X_train_poly = poly.transform(X_train)"
   ]
  },
  {
   "cell_type": "code",
   "execution_count": null,
   "metadata": {},
   "outputs": [],
   "source": [
    "print('shape of x:', X_train.shape)\n",
    "print('shape of polynormial x:', X_train_poly.shape)"
   ]
  },
  {
   "cell_type": "code",
   "execution_count": null,
   "metadata": {},
   "outputs": [],
   "source": [
    "reg_multi_poly = LinearRegression().fit(X_train_poly, y_train)"
   ]
  },
  {
   "cell_type": "code",
   "execution_count": null,
   "metadata": {},
   "outputs": [],
   "source": [
    "y_train_hat = reg_multi_poly.predict(X_train_poly)\n",
    "mean_square_error = np.sqrt(np.mean((y_train - y_train_hat)**2))\n",
    "print(\"Root Mean squared error (train data): {:.3f}\".format(mean_square_error['TARGET_poverty']))"
   ]
  },
  {
   "cell_type": "code",
   "execution_count": null,
   "metadata": {},
   "outputs": [],
   "source": [
    "X_test = test_data.drop(['TARGET_poverty', 'id'], axis=1)\n",
    "y_test = test_data[['TARGET_poverty']]\n",
    "\n",
    "X_test_poly = poly.transform(X_test)\n",
    "y_test_hat = reg_multi_poly.predict(X_test_poly)\n",
    "\n",
    "mean_square_error_test = np.sqrt(np.mean((y_test - y_test_hat)**2))\n",
    "print(\"Root Mean squared error (test data): {:.3f}\".format(mean_square_error_test['TARGET_poverty']))"
   ]
  },
  {
   "cell_type": "markdown",
   "metadata": {},
   "source": [
    "## Data Normalization"
   ]
  },
  {
   "cell_type": "code",
   "execution_count": null,
   "metadata": {},
   "outputs": [],
   "source": [
    "X_train = train_data.drop(['TARGET_poverty', 'id'], axis=1)\n",
    "y_train = train_data[['TARGET_poverty']]"
   ]
  },
  {
   "cell_type": "code",
   "execution_count": null,
   "metadata": {},
   "outputs": [],
   "source": [
    "from sklearn import preprocessing\n",
    "\n",
    "scaler = preprocessing.StandardScaler().fit(X_train)\n",
    "X_train_scaled = scaler.transform(X_train)"
   ]
  },
  {
   "cell_type": "code",
   "execution_count": null,
   "metadata": {},
   "outputs": [],
   "source": [
    "multi_reg_lin = LinearRegression().fit(X_train_scaled, y_train)"
   ]
  },
  {
   "cell_type": "code",
   "execution_count": null,
   "metadata": {},
   "outputs": [],
   "source": [
    "y_train_hat = multi_reg_lin.predict(X_train_scaled)\n",
    "\n",
    "mean_square_error_train = np.sqrt(np.mean((y_train - y_train_hat)**2))\n",
    "print(\"Root Mean squared error (train data): {:.3f}\".format(mean_square_error_train['TARGET_poverty']))"
   ]
  },
  {
   "cell_type": "code",
   "execution_count": null,
   "metadata": {},
   "outputs": [],
   "source": [
    "X_test = test_data.drop(['TARGET_poverty', 'id'], axis=1)\n",
    "y_test = test_data[['TARGET_poverty']]\n",
    "\n",
    "X_test_scaled = scaler.transform(X_test)\n",
    "\n",
    "y_test_hat = multi_reg_lin.predict(X_test_scaled)\n",
    "\n",
    "mean_square_error_test = np.sqrt(np.mean((y_test - y_test_hat)**2))\n",
    "print(\"Root Mean squared error (test data): {:.3f}\".format(mean_square_error_test['TARGET_poverty']))"
   ]
  },
  {
   "cell_type": "code",
   "execution_count": null,
   "metadata": {},
   "outputs": [],
   "source": [
    "plt.scatter(y_test, y_test_hat)\n",
    "plt.xlabel('Target Value')\n",
    "plt.ylabel('Predicted Value')\n",
    "plt.show()"
   ]
  }
 ],
 "metadata": {
  "kernelspec": {
   "display_name": "Python 3",
   "language": "python",
   "name": "python3"
  },
  "language_info": {
   "codemirror_mode": {
    "name": "ipython",
    "version": 3
   },
   "file_extension": ".py",
   "mimetype": "text/x-python",
   "name": "python",
   "nbconvert_exporter": "python",
   "pygments_lexer": "ipython3",
   "version": "3.7.4"
  }
 },
 "nbformat": 4,
 "nbformat_minor": 4
}

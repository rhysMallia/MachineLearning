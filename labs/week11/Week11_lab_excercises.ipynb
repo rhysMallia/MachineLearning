{
 "cells": [
  {
   "cell_type": "markdown",
   "metadata": {},
   "source": [
    "---\n",
    "# <div align=\"center\"><font color='green'>  </font></div>\n",
    "# <div align=\"center\"><font color='green'> COSC 2673/2793 | Machine Learning  </font></div>\n",
    "## <div align=\"center\"> <font color='green'> Week 11 Lab Exercises: **Feature Selection**</font></div>\n",
    "---"
   ]
  },
  {
   "cell_type": "markdown",
   "metadata": {},
   "source": [
    "# Introduction\n",
    "\n",
    "In this lab you will be:\n",
    "1. Exploring feature selection methods\n",
    "2. Exploring feature creation methods\n",
    "\n",
    "### data set\n",
    "\n",
    "You will be looking at form the UCI machine learning repository `Breast Cancer Wisconsin (Original) Data Set`. More information on the dataset is at [url](https://archive.ics.uci.edu/ml/datasets/Breast+Cancer+Wisconsin+%28Original%29).\n",
    "The Breast Cancer Wisconsin (Original) dataset from UCI machine learning repository is a classification dataset, which records the measurements for breast cancer cases. There are two classes, benign and malignant.\n",
    "\n",
    "You can download this from Canvas."
   ]
  },
  {
   "cell_type": "markdown",
   "metadata": {},
   "source": [
    "# Loading the data and EDA"
   ]
  },
  {
   "cell_type": "code",
   "execution_count": 1,
   "metadata": {},
   "outputs": [],
   "source": [
    "import pandas as pd\n",
    "import matplotlib.pyplot as plt\n",
    "import numpy as np\n",
    "import sklearn as sk\n",
    "\n",
    "from sklearn import tree\n",
    "from sklearn import preprocessing\n",
    "from sklearn import metrics\n",
    "from sklearn import model_selection"
   ]
  },
  {
   "cell_type": "code",
   "execution_count": 2,
   "metadata": {},
   "outputs": [],
   "source": [
    "col_names = ['Id_number', 'Clump_Thickness', 'Uniformity_Cell_Size', \n",
    "             'Uniformity_Cell_Shape', 'Marginal_Adhesion', 'Epithelial_Cell_Size', \n",
    "             'Bare_Nuclei', 'Bland_Chromatin', 'Normal_Nucleoli', \n",
    "             'Mitoses', 'Class']\n",
    "data = pd.read_csv('./breast-cancer-wisconsin.data', names=col_names)"
   ]
  },
  {
   "cell_type": "markdown",
   "metadata": {},
   "source": [
    "Conduct an EDA and identify the data charactersitics that are important for the task.\n",
    "\n",
    "# Missing values\n",
    "\n",
    "Lets see if the data set has any missing values."
   ]
  },
  {
   "cell_type": "code",
   "execution_count": 3,
   "metadata": {},
   "outputs": [
    {
     "data": {
      "text/plain": [
       "Id_number                 0\n",
       "Clump_Thickness           0\n",
       "Uniformity_Cell_Size      0\n",
       "Uniformity_Cell_Shape     0\n",
       "Marginal_Adhesion         0\n",
       "Epithelial_Cell_Size      0\n",
       "Bare_Nuclei              16\n",
       "Bland_Chromatin           0\n",
       "Normal_Nucleoli           0\n",
       "Mitoses                   0\n",
       "Class                     0\n",
       "dtype: int64"
      ]
     },
     "execution_count": 3,
     "metadata": {},
     "output_type": "execute_result"
    }
   ],
   "source": [
    "data.isnull().sum()"
   ]
  },
  {
   "cell_type": "markdown",
   "metadata": {},
   "source": [
    "Take a closer look at the data set. The column `Bare_Nuclei` contain missing values. In sklearn missing attributes are assumed to be  \"NaN\" values. These NaN values are problematic, and cannot be used when training a model.\n",
    "\n",
    "There are two simple methods to handle missing values: \n",
    "1. Remove rows (or columns) with NaN values.\n",
    "2. Replace NaN values with a single temporary value\n",
    "\n",
    "in pandas you can achieve this by:"
   ]
  },
  {
   "cell_type": "code",
   "execution_count": 4,
   "metadata": {},
   "outputs": [],
   "source": [
    "data1 = data.dropna()\n",
    "data2 = data.fillna(value=0)"
   ]
  },
  {
   "cell_type": "markdown",
   "metadata": {},
   "source": [
    "Try building a simple classifier with both of these data sets. Since this dataset contains relatively low number of missing values you might not see an significant difference. \n",
    "\n",
    "<span style=\"font-size:1.5em;\">�</span> **What are the advantages/disadvantages of using both of these methods for handling data sets with missing attributes?** Discuss with your tutor.\n",
    "\n",
    "It may be desirable to impute for meaningful values for the missing attributes.\n",
    "The SimpleImputer preprocessor provides an easy interface for this.\n",
    "The imputer can generate values for NaN values by three methods:\n",
    "\n",
    "- The mean (average) of all non-missing values for that column\n",
    "- The median (middle) value of all non-missing values for that column\n",
    "- The most frequent value of all non-missing values for that column\n",
    "\n",
    "\n",
    "Below code shows how to apply mean imputation. The imputer class uses the same interface as leaner, that is, to use the imputer requires the `fit()` and `transform()` functions. "
   ]
  },
  {
   "cell_type": "code",
   "execution_count": 5,
   "metadata": {},
   "outputs": [],
   "source": [
    "from sklearn.impute import SimpleImputer\n",
    "imp_mean = SimpleImputer(missing_values=np.nan, strategy='mean')\n",
    "imp_mean = imp_mean.fit(data)\n",
    "data = imp_mean.transform(data) # Return a numpy\n",
    "data = pd.DataFrame(data=data, columns=col_names)"
   ]
  },
  {
   "cell_type": "markdown",
   "metadata": {},
   "source": [
    "<span style=\"font-size:1.5em;\">�</span> **What are the drawbacks (or problems) of computing the mean over all the training examples?** \n",
    "\n",
    "<span style=\"font-size:1.5em;\">�</span> **How can you select the best method for imputation?**\n",
    "\n",
    "Discuss with your tutor."
   ]
  },
  {
   "cell_type": "markdown",
   "metadata": {},
   "source": [
    "# Feature Selection\n",
    "\n",
    "First lets prepare the attributes and target variable. Note that for the dataset the Class is defines as 2 for benign, 4 for malignant. We can do a simple transform to convert this to 0,1"
   ]
  },
  {
   "cell_type": "code",
   "execution_count": 6,
   "metadata": {},
   "outputs": [],
   "source": [
    "att_names = col_names[:-1]\n",
    "Y = (data['Class']-2)/2\n",
    "X = data.drop(['Class'], axis = 1)"
   ]
  },
  {
   "cell_type": "markdown",
   "metadata": {},
   "source": [
    "Lets hold out some data to make final judgement. "
   ]
  },
  {
   "cell_type": "code",
   "execution_count": 7,
   "metadata": {},
   "outputs": [],
   "source": [
    "from sklearn.model_selection import train_test_split\n",
    "TrainX, TestX, TrainY, TestY = train_test_split(X, Y, test_size=0.3)"
   ]
  },
  {
   "cell_type": "markdown",
   "metadata": {},
   "source": [
    "### Using data exploration and expert knowledge about data\n",
    "\n",
    "When you observe the data you will notice that the column `Id_number` contains no useful information for the task of predicting breast cancer. Therefore it is good practice to drop that column before we proceed. However, as we are interested in learning the concepts of automated feature selection, lets keep it because it will provide us some intuition of the automated feature selection process. At this stage you may also do some feature normalization and other preprocessing tasks you think are appropriate. \n",
    "\n",
    "Now lets fit a simple logistic regression model to the data and see how it works. The regularisation parameter `C` is purposefully kept at a very high value to ignore the effect. The cross validation error measures are generated for the comparison between different techniques. "
   ]
  },
  {
   "cell_type": "code",
   "execution_count": 8,
   "metadata": {},
   "outputs": [
    {
     "name": "stdout",
     "output_type": "stream",
     "text": [
      "Cross Val Accuracy: 0.67 (+/- 0.01)\n"
     ]
    }
   ],
   "source": [
    "from sklearn.linear_model import LogisticRegression\n",
    "from sklearn.metrics import f1_score, accuracy_score\n",
    "from sklearn.model_selection import cross_val_score\n",
    "\n",
    "logReg_orig = LogisticRegression(C=10000, max_iter=100, solver='liblinear')\n",
    "scores = cross_val_score(logReg_orig, TrainX, TrainY, cv=10)\n",
    "print(\"Cross Val Accuracy: %0.2f (+/- %0.2f)\" % (scores.mean(), scores.std() * 2))"
   ]
  },
  {
   "cell_type": "markdown",
   "metadata": {},
   "source": [
    "## Filter methods\n",
    "Lets first try a filter method in sklearn. sklearn has many measures inbuilt that can be used to establish the \"best\" or most important features. \n",
    "Two such options are chi-squared and ANOVA F-value measure. Lets first use ANOVA F-value measure to establish the most important features. The number of features to pick is set to 6. \n",
    "\n",
    "The SelectKBest class uses the same interface as leaner, that is, to use the SelectKBest requires the `fit()` and `transform()` functions. "
   ]
  },
  {
   "cell_type": "code",
   "execution_count": 9,
   "metadata": {},
   "outputs": [
    {
     "data": {
      "image/png": "[encoded data removed]",
      "text/plain": [
       "<Figure size 576x576 with 1 Axes>"
      ]
     },
     "metadata": {
      "needs_background": "light"
     },
     "output_type": "display_data"
    }
   ],
   "source": [
    "from sklearn.feature_selection import SelectKBest\n",
    "from sklearn.feature_selection import chi2, f_classif\n",
    "\n",
    "featureSelector = SelectKBest(score_func=f_classif, k=6).fit(TrainX, TrainY)\n",
    "\n",
    "# plot the feature importance\n",
    "plt.figure(figsize=(8,8))\n",
    "scores = featureSelector.scores_\n",
    "plt.xticks(rotation='vertical')\n",
    "plt.barh(att_names, scores, )\n",
    "\n",
    "# get the selected feature vectors\n",
    "TrainX_new = featureSelector.transform(TrainX)\n",
    "TestX_new = featureSelector.transform(TestX)"
   ]
  },
  {
   "cell_type": "markdown",
   "metadata": {},
   "source": [
    "<span style=\"font-size:1.5em;\">�</span> **What are the most useful features picked by the above measure? How much importance did the measure give to `Id_number`?**\n",
    "\n",
    "Now you can construct a classifier using the selected \"best\" 6 features and observe the performance.\n",
    "\n",
    "<span style=\"font-size:1.5em;\">�</span> **Did you observe any improvements? What can you say about the model complexity and how it may be beneficial in modelling the unknown target function.**\n",
    "\n",
    "How can you select a good value for k - the number of features to select? You can do this using k-fold cross validation. See what will be the best k for this problem."
   ]
  },
  {
   "cell_type": "code",
   "execution_count": 10,
   "metadata": {},
   "outputs": [],
   "source": [
    "# TODO"
   ]
  },
  {
   "cell_type": "markdown",
   "metadata": {},
   "source": [
    "## Wrapper methods\n",
    "\n",
    "Wrapper methods measure the performance of a given model on different subsets of features and select the best subset. To make the process computationally tractable some approximation methods are commonly used:\n",
    "\n",
    "1. Forward selection\n",
    "2. Backward selection\n",
    "\n",
    "\n",
    "Lets try recursive feature elimination implemented in sklearn. Note that this method requires a model as input. Again we set the number of features to 6."
   ]
  },
  {
   "cell_type": "code",
   "execution_count": 11,
   "metadata": {},
   "outputs": [
    {
     "name": "stdout",
     "output_type": "stream",
     "text": [
      "Num Features: 6\n",
      "Selected Features: ['Id_number', 'Uniformity_Cell_Size', 'Uniformity_Cell_Shape', 'Marginal_Adhesion', 'Bare_Nuclei', 'Normal_Nucleoli']\n"
     ]
    }
   ],
   "source": [
    "from sklearn.feature_selection import RFE\n",
    "model = LogisticRegression(C=10000, max_iter=100, solver='liblinear')\n",
    "rfe = RFE(model, 6).fit(TrainX, TrainY)\n",
    "print(\"Num Features: %s\" % (rfe.n_features_))\n",
    "sel_inx = np.ix_(rfe.support_)[0].tolist()\n",
    "print(\"Selected Features: %s\" % [att_names[i] for i in sel_inx])\n",
    "\n",
    "# get the selected feature vectors\n",
    "TrainX_new = rfe.transform(TrainX)\n",
    "TestX_new = rfe.transform(TestX)"
   ]
  },
  {
   "cell_type": "markdown",
   "metadata": {},
   "source": [
    "<span style=\"font-size:1.5em;\">�</span> What features did RFE select? where they different to what the filter methods produce? **Do you see a problem with the above implementation?**\n",
    "\n",
    "We are using the train set to evaluate the performance of each model that may result in over-fitting the feature selection model to train data. Can cross-validation help us here?\n",
    "Try using the `RFECV` function in sklearn.\n",
    "\n",
    "Now you can construct a classifier using the selected \"best\" 6 features and observe the performance."
   ]
  },
  {
   "cell_type": "markdown",
   "metadata": {},
   "source": [
    "## Embedded feature selection\n",
    "We have already used embedded feature selection before: e.g. lasso. Try them for the same problem your self. "
   ]
  },
  {
   "cell_type": "markdown",
   "metadata": {},
   "source": [
    "# Feature construction\n",
    "Feature construction is the process of inventing additional features to add to a learning problem. While this process does not add information, the new features may represent the information is a form that is easier for a leaner to use.\n",
    "\n",
    "Principal Component Analysis (PCA) is a popular projection method for feature construction\n",
    "The projection reduces the state space of a set of training data into its `principal components`. \n",
    "\n",
    "First lets conduct PCA and see how much variance in data is explained by each of the principle components."
   ]
  },
  {
   "cell_type": "code",
   "execution_count": 12,
   "metadata": {},
   "outputs": [
    {
     "name": "stdout",
     "output_type": "stream",
     "text": [
      "[0.69226403 0.07439376 0.06218771 0.04237246 0.04007939 0.03304748\n",
      " 0.02331528 0.02182208 0.01051781]\n"
     ]
    },
    {
     "data": {
      "image/png": "[encoded data removed]",
      "text/plain": [
       "<Figure size 432x288 with 1 Axes>"
      ]
     },
     "metadata": {
      "needs_background": "light"
     },
     "output_type": "display_data"
    }
   ],
   "source": [
    "from sklearn.decomposition import PCA\n",
    "components = 9\n",
    "\n",
    "TrainX = TrainX.drop(['Id_number'],  axis = 1)\n",
    "\n",
    "\n",
    "pca = PCA(n_components=components).fit(TrainX)\n",
    "\n",
    "print(pca.explained_variance_ratio_)\n",
    "plt.bar(np.arange(1,components+1), pca.explained_variance_ratio_)\n",
    "plt.ylabel(\"Explained Variance Ratio\")\n",
    "plt.xlabel(\"Feature\")\n",
    "plt.show()"
   ]
  },
  {
   "cell_type": "markdown",
   "metadata": {},
   "source": [
    "Note that here the n_components is set to the number of features in the training dataset as we are interested in observing the explained variance for all the components. <span style=\"font-size:1.5em;\">�</span> How much variance in data is explained by the first two principle components?\n",
    "\n",
    "Now lets see how we can use PCA to project the data and extract the first two prociple components."
   ]
  },
  {
   "cell_type": "code",
   "execution_count": 13,
   "metadata": {},
   "outputs": [],
   "source": [
    "from sklearn.decomposition import PCA\n",
    "components = 2\n",
    "\n",
    "TestX = TestX.drop(['Id_number'],  axis = 1)\n",
    "\n",
    "pca = PCA(n_components=components).fit(TrainX)\n",
    "TrainX_new = pca.transform(TrainX)\n",
    "TestX_new = pca.transform(TestX)"
   ]
  },
  {
   "cell_type": "markdown",
   "metadata": {},
   "source": [
    "Train a model with the new feature representation which only contains 2 features and see what is the performance of the model. "
   ]
  },
  {
   "cell_type": "markdown",
   "metadata": {},
   "source": [
    "<span style=\"font-size:1.5em;\">�</span> **Can you use feature selection to select two features that has the same or better performance compared to the PCA model with two features?**"
   ]
  },
  {
   "cell_type": "markdown",
   "metadata": {},
   "source": [
    "<span style=\"font-size:1.5em;\">�</span> **How can you select the best number of components to be used with PCA?**"
   ]
  },
  {
   "cell_type": "markdown",
   "metadata": {},
   "source": [
    "Lets observe how good the first principle component is at performing the task (i.e. discriminating between positives and negatives)"
   ]
  },
  {
   "cell_type": "code",
   "execution_count": 14,
   "metadata": {},
   "outputs": [
    {
     "data": {
      "image/png": "[encoded data removed]",
      "text/plain": [
       "<Figure size 432x288 with 1 Axes>"
      ]
     },
     "metadata": {
      "needs_background": "light"
     },
     "output_type": "display_data"
    }
   ],
   "source": [
    "plus = TrainY == 1\n",
    "X_plus = TrainX_new[plus,0]\n",
    "X_minus = TrainX_new[~plus,0]\n",
    "\n",
    "bins = np.linspace(-5, 7.5, 100)\n",
    "\n",
    "plt.hist(X_plus, bins, alpha=0.5, label='benign')\n",
    "plt.hist(X_minus, bins, alpha=0.5, label='malignant')\n",
    "plt.legend(loc='upper right')\n",
    "plt.show()"
   ]
  },
  {
   "cell_type": "markdown",
   "metadata": {},
   "source": [
    "<span style=\"font-size:1.5em;\">�</span> **How good is the first principle component in discriminating between positives and negatives?**"
   ]
  },
  {
   "cell_type": "markdown",
   "metadata": {},
   "source": [
    "You can practice the concepts more using the dataset like [Mammographic Mass Data Set](https://archive.ics.uci.edu/ml/datasets/Mammographic+Mass) in UCI datasets. "
   ]
  },
  {
   "cell_type": "code",
   "execution_count": null,
   "metadata": {},
   "outputs": [],
   "source": []
  }
 ],
 "metadata": {
  "kernelspec": {
   "display_name": "Python 3",
   "language": "python",
   "name": "python3"
  },
  "language_info": {
   "codemirror_mode": {
    "name": "ipython",
    "version": 3
   },
   "file_extension": ".py",
   "mimetype": "text/x-python",
   "name": "python",
   "nbconvert_exporter": "python",
   "pygments_lexer": "ipython3",
   "version": "3.7.4"
  }
 },
 "nbformat": 4,
 "nbformat_minor": 4
}

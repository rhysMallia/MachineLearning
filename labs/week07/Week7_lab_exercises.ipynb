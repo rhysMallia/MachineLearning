{
 "cells": [
  {
   "cell_type": "markdown",
   "metadata": {},
   "source": [
    "---\n",
    "# <div align=\"center\"><font color='green'>  </font></div>\n",
    "# <div align=\"center\"><font color='green'> COSC 2673/2793 | Machine Learning  </font></div>\n",
    "## <div align=\"center\"> <font color='green'> Week 7 Lab Exercises: **Rule Learning**</font></div>\n",
    "---"
   ]
  },
  {
   "cell_type": "markdown",
   "metadata": {},
   "source": [
    "# Introduction\n",
    "\n",
    "In this lab you will be:\n",
    "\n",
    "1. Implement the entropy calculation\n",
    "2. Implement a simplified proposition rule learning algorithm, outputting rules\n",
    "\n",
    "*sklearn* does not have an implementation of a rule learner. Instead you will implement a simplified CN2 algorithm.\n",
    "This algorithm will construct pre-conditions that contain a single term, that is, the rule precondition will not contain conjunctions. This will require you to implement functions in python, and use simple loops and if-statements. If you are unfamiliar with these, first revise the Python tutorials from Lab01.\n",
    "\n",
    "This lab only requires Pandas/Numpy to load with work with the data set, and the math library."
   ]
  },
  {
   "cell_type": "code",
   "execution_count": null,
   "metadata": {},
   "outputs": [],
   "source": [
    "import pandas as pd\n",
    "import numpy as np\n",
    "import math"
   ]
  },
  {
   "cell_type": "markdown",
   "metadata": {},
   "source": [
    "## Datasets\n",
    "\n",
    "You will be looking at two data sets for this lab which you have seen before:\n",
    "\n",
    "1. Sailing days\n",
    "2. Zoo (animal) classification\n",
    "\n",
    "You can download these from Canvas or BitBucket code repo."
   ]
  },
  {
   "cell_type": "code",
   "execution_count": null,
   "metadata": {},
   "outputs": [],
   "source": [
    "sailData = pd.read_csv('./datasets/sailing-custom-python.txt',delim_whitespace=True)\n",
    "zooData = pd.read_csv('./datasets/zoo-python.txt',delim_whitespace=True)"
   ]
  },
  {
   "cell_type": "code",
   "execution_count": null,
   "metadata": {},
   "outputs": [],
   "source": [
    "sailData.head()"
   ]
  },
  {
   "cell_type": "code",
   "execution_count": null,
   "metadata": {},
   "outputs": [],
   "source": [
    "zooData.head()"
   ]
  },
  {
   "cell_type": "markdown",
   "metadata": {},
   "source": [
    " remove unnecessary columns:"
   ]
  },
  {
   "cell_type": "code",
   "execution_count": null,
   "metadata": {},
   "outputs": [],
   "source": [
    "zooData = zooData.drop(columns='name')"
   ]
  },
  {
   "cell_type": "markdown",
   "metadata": {},
   "source": [
    "# Simple Rule Learner\n",
    "You will develop the simple rule learner over three parts:\n",
    "\n",
    "1. Entropy calculation function\n",
    "2. Majority class calculation function\n",
    "3. Rule learner\n",
    "\n",
    "\n",
    "## Entropy function\n",
    "\n",
    "First you will need a function that calculates the entropy of a data set."
   ]
  },
  {
   "cell_type": "code",
   "execution_count": null,
   "metadata": {},
   "outputs": [],
   "source": [
    "def entropy(data, target):\n",
    "    #TODO"
   ]
  },
  {
   "cell_type": "markdown",
   "metadata": {},
   "source": [
    "**Note:** In Juypter you need to place the entire function definition in a single input group. You also need to obey formatting rules for functions (that is tabs/spaces for indentation)\n",
    "\n",
    "This function takes two parameters, (1) the data set, and (2) the column name of the output/target class. The function should return the entropy of the data set. \n",
    "\n",
    "As a reminder, entropy is:"
   ]
  },
  {
   "cell_type": "markdown",
   "metadata": {},
   "source": [
    "$\\text{entropy}(S) = -\\sum_{i=0}^{c}p_i\\log_2p_i$"
   ]
  },
  {
   "cell_type": "markdown",
   "metadata": {},
   "source": [
    "The pseudo-code for the entropy calculation is ($x indicates variable x):"
   ]
  },
  {
   "cell_type": "markdown",
   "metadata": {},
   "source": [
    "```\n",
    "entropy($data, $target):\n",
    "    $entropy_value = 0\n",
    "    foreach $value of $target:\n",
    "            $count = the number of examples in $data where $value==$target\n",
    "            $p_i = $count / (total number of examples in $data)\n",
    "            Add to $entropy_value using $p_i\n",
    "        return $entropy_value\n",
    "```\n"
   ]
  },
  {
   "cell_type": "markdown",
   "metadata": {},
   "source": [
    "The following code-snippets will help in creating the entropy function:\n",
    "- You can get a count of each of the values of a single attribute using:\n",
    "    ```\n",
    "        vCounts = pd.value_counts(data[target])\n",
    "    ```\n",
    "    This gives as a 2D array, for each value of the target column, the number of values matching that value.\n",
    "\n",
    "\n",
    "- You can iterate through the actual counts by:\n",
    "    ```\n",
    "        for value in vCounts:\n",
    "    ```\n",
    "\n",
    "\n",
    "- You can iterate through the labels of the value counts array by:\n",
    "    ```\n",
    "        for value in vCounts.axes[0]:\n",
    "    ```\n",
    "\n",
    "\n",
    "- The following returns all examples in the data frame whose attribute matches the given value:\n",
    "    ```\n",
    "        matching = data.loc[data[attribute] == value]\n",
    "    ```\n",
    "\n",
    "\n",
    "- The number of rows in a data frame is\n",
    "    ```\n",
    "        data.shape[0]\n",
    "    ```\n",
    "\n",
    "\n",
    "- The size property of a pandas data frame returns the number of elements in the data frame, or the length of a single column:\n",
    "    ```\n",
    "        data.size\n",
    "    ```\n",
    "\n",
    "\n",
    "- The $log_2$ of a number $x$ is calculated by:\n",
    "    ```\n",
    "        math.log(x,2)\n",
    "    ```"
   ]
  },
  {
   "cell_type": "code",
   "execution_count": null,
   "metadata": {},
   "outputs": [],
   "source": [
    "print('Entropy for Sail data: ', entropy(sailData, 'Sail'))\n",
    "print('Entropy for Zoo: ', entropy(zooData, 'type'))"
   ]
  },
  {
   "cell_type": "markdown",
   "metadata": {},
   "source": [
    "If you have implemented the entropy function correctly, you should get the following results for the sailing and zoo data sets:\n",
    "\n",
    "    - entropy(sailData, 'Sail') = 0.9975025463691153\n",
    "    - entropy(zooData, 'type') = 2.390559682294039"
   ]
  },
  {
   "cell_type": "markdown",
   "metadata": {},
   "source": [
    "## Majority Class\n",
    "Secondly, you will need to implement a function that returns the value of the target column which has the majority number of values.\n",
    "This code should be very similar to the entropy calculation.\n",
    "Use the following as the definition for your function:\n"
   ]
  },
  {
   "cell_type": "code",
   "execution_count": null,
   "metadata": {},
   "outputs": [],
   "source": [
    "def majority_class(data, target):\n",
    "    #TODO"
   ]
  },
  {
   "cell_type": "markdown",
   "metadata": {},
   "source": [
    "The pseudo-code for finding the majority is:\n",
    "\n",
    "```\n",
    "majority_class($data, $target):\n",
    "    $majority = 0\n",
    "    $class = ''\n",
    "    foreach $value of $target:\n",
    "        $count = the number of examples in $data where $value==$target\n",
    "        if $count > $majority:\n",
    "            $majority = $count\n",
    "            $class = $value\n",
    "    return $class\n",
    "```\n",
    "\n",
    "Alternatively, you can investigate how to use the **idmax()** function, which is a function of a pandas dataframe/series."
   ]
  },
  {
   "cell_type": "code",
   "execution_count": null,
   "metadata": {},
   "outputs": [],
   "source": [
    "print('Majority for Sail data Target: ', majority_class(sailData, 'Sail'))\n",
    "print('Majority for Zoo data Target: ', majority_class(zooData, 'type'))"
   ]
  },
  {
   "cell_type": "markdown",
   "metadata": {},
   "source": [
    "## Rule Learner\n",
    "\n",
    "Given the above two functions, it is now possible to implement a simple propositional rule learner.\n",
    "The features of this rule learner are:\n",
    "\n",
    "1. The pre-condition of each rule contains a single condition\n",
    "2. All attributes are treated as categorical\n",
    "3. The rules are going to be printed to the command line\n"
   ]
  },
  {
   "cell_type": "markdown",
   "metadata": {},
   "source": [
    "The pseudo-code for this simple propositional rule learner is:\n",
    "```\n",
    "simpler_rule_learner($data, $target):\n",
    "    while $data.shape[0] > 0:\n",
    "        if entropy($data) = 0:\n",
    "            print (\"otherwise =>\", majority_class($data,$target))\n",
    "            drop all rows in $data\n",
    "        else:\n",
    "            $best_entropy = entropy($data)\n",
    "            $best_attribute = ''\n",
    "            $best_value = ''\n",
    "            $best_data=$data\n",
    "            foreach $attribue of $data:\n",
    "                foreach $value of $attribute:\n",
    "                    $data2 = select the examples in $data where $attribute==$value\n",
    "                    if entropy($data2) < $best_entropy:\n",
    "                        $best_entropy = entropy($data2)\n",
    "                        $best_attribute = $attribue\n",
    "                        $best_value = $value\n",
    "                        $best_data=$data2\n",
    "            print($best_attribute, \"=\", $best_value, \"=>\",\n",
    "                    majority_class($best_data,$target))\n",
    "            drop all rows of $data2 from $data\n",
    "```"
   ]
  },
  {
   "cell_type": "code",
   "execution_count": null,
   "metadata": {},
   "outputs": [],
   "source": [
    "def simpler_rule_learner(data, target):\n",
    "    # TODO"
   ]
  },
  {
   "cell_type": "markdown",
   "metadata": {},
   "source": [
    "**Hints:**\n",
    "\n",
    "- You can drop all the necessary row of `$data` by constructing the opposition condition that was used to create `$data`, ie\n",
    "    ```\n",
    "        data = data.loc[data[best_attribute] != best_value]\n",
    "    ```\n",
    "\n",
    "\n",
    "- The following drops all rows of a data frame\n",
    "    ```\n",
    "        data = data.iloc[0:0]\n",
    "    ```\n",
    "    \n",
    "    "
   ]
  },
  {
   "cell_type": "code",
   "execution_count": null,
   "metadata": {},
   "outputs": [],
   "source": [
    "simpler_rule_learner(sailData, 'Sail')"
   ]
  },
  {
   "cell_type": "code",
   "execution_count": null,
   "metadata": {},
   "outputs": [],
   "source": [
    "simpler_rule_learner(zooData, 'type')"
   ]
  },
  {
   "cell_type": "markdown",
   "metadata": {},
   "source": [
    "<span style=\"font-size:1.5em;\">�</span> How do these rules compare to the rules generated by CN2 (try Orange software demostrated in lecture)?\n"
   ]
  },
  {
   "cell_type": "markdown",
   "metadata": {},
   "source": [
    "If you have implemented the simple ruler learner correctly, you should get the following output\n",
    "```\n",
    "    simpler_rule_learner(sailData, 'Sail')\n",
    "        Company = big => yes\n",
    "        Outlook = rainy => no\n",
    "        Sailboat = small => yes\n",
    "        Company = med => yes\n",
    "        otherwise => no\n",
    "```\n",
    "\n",
    "\n",
    "```\n",
    "    simpler_rule_learner(zooData, 'type')\n",
    "        feathers = Yes => bird\n",
    "        milk = Yes => mammal\n",
    "        fins = Yes => fish\n",
    "        hair = Yes => insect\n",
    "        airborne = Yes => insect\n",
    "        legs = 8.0 => invertebrate\n",
    "        catsize = Yes => reptile\n",
    "        eggs = No => reptile\n",
    "        breathes = No => invertebrate\n",
    "        aquatic = Yes => amphibian\n",
    "        tail = Yes => reptile\n",
    "        legs = 0.0 => invertebrate\n",
    "        otherwise => insect\n",
    "```"
   ]
  },
  {
   "cell_type": "markdown",
   "metadata": {},
   "source": [
    "# Sample Solutions\n",
    "If you are struggling with the first two functions, a sample solution has been provided for these.\n",
    "Only use this if you have **made your absolute best attempts** at implementing these functions yourself.\n",
    "The purpose of this lab is to understand common aspects of symbolic machine learning algorithms, though the CN2 algorithm.\n",
    "You will gain significantly less out of this lab if you don't try to solve the problems yourself."
   ]
  }
 ],
 "metadata": {
  "kernelspec": {
   "display_name": "Python 3",
   "language": "python",
   "name": "python3"
  },
  "language_info": {
   "codemirror_mode": {
    "name": "ipython",
    "version": 3
   },
   "file_extension": ".py",
   "mimetype": "text/x-python",
   "name": "python",
   "nbconvert_exporter": "python",
   "pygments_lexer": "ipython3",
   "version": "3.7.4"
  }
 },
 "nbformat": 4,
 "nbformat_minor": 4
}

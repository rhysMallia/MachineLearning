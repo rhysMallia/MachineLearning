{
 "cells": [
  {
   "cell_type": "markdown",
   "metadata": {},
   "source": [
    "---\n",
    "# <div align=\"center\"><font color='green'> COSC 2673/2793 | Machine Learning  </font></div>\n",
    "## <div align=\"center\"> <font color='green'> Week 2 Lab Exercises: **Reading data & Exploratory Data Analysis (EDA)**</font></div>\n",
    "---"
   ]
  },
  {
   "cell_type": "markdown",
   "metadata": {},
   "source": [
    "# Introduction\n",
    "\n",
    "In this lab, we get some initial experience with using some of the main python tools for this course, including\n",
    "Numpy, Matplotlib and Pandas. We also load some datasets, compute some basic statistics on them and plot\n",
    "them.\n",
    "\n",
    "The lab assumes that you are familiar with Python. Please complete ``Week 01 lab: Introduction to python`` before attempting this lab. \n",
    "\n",
    "The lab can be executed on either your own machine (with anaconda installation) or on AWS educate classroom setup for the course. \n",
    "- Please refer canvas for instructions on installing anaconda python or setting up AWS Sagemaker notebook: [Introduction to Amazon Web Services (AWS) Classrooms](https://rmit.instructure.com/courses/79534/pages/introduction-to-amazon-web-services-aws-classrooms?module_item_id=2952364)\n",
    "\n",
    "\n",
    "## Objective\n",
    "- Continue to familiarise with Python and AWS\n",
    "- Load dataset and examine the dataset\n",
    "- Learn to compute basic statistics to understand the dataset more\n",
    "- Plot the datasets to visually investigate the dataset"
   ]
  },
  {
   "cell_type": "markdown",
   "metadata": {},
   "source": [
    "## Dataset\n",
    "\n",
    "We examine two regression based datasets in this lab. The first one is to do with house prices, some factors\n",
    "associated with the prices and trying to predict house prices. The second dataset is predicting the amount of\n",
    "share bikes hired every day in Washington D.C., USA, based on time of the year, day of the week and weather\n",
    "factors. These datasets are available in `housing.data.csv` and `bikeShareDay.csv` in the code repository. \n",
    "\n",
    "First, ensure the two data files are located within the Jupyter workspace. \n",
    "- If you are on the local machine copy the two data data directories (`BostonHousingPrice`,`Bike-Sharing-Dataset`) to your current folder.\n",
    "- If you are on AWS you can upload the data to the notebook instance by clicking the `upload files` icon on the left sidebar."
   ]
  },
  {
   "cell_type": "markdown",
   "metadata": {},
   "source": [
    "> **<font color='red'><span style=\"font-size:1.5em;\">☞</span> Task: Open the csv files in your favourite spreadsheets software (e.g. Excel) and observe the data.</font>** "
   ]
  },
  {
   "cell_type": "markdown",
   "metadata": {},
   "source": [
    "# Load dataset to Python Notebook\n",
    "\n",
    "Next we examine how to load these into Python and Jupyter notebooks. We will first analyse the House prices dataset, then you’ll repeat the process to analyse the bike hire dataset.\n",
    "\n",
    "First we need to import a few packages that will be used for our data loading and analysis. In python notebook you can load packages just before it is called (no need to load them at the start of the program).\n",
    "\n",
    "Pandas is a great Python package for loading data.  We will use Matplotlib to visualise some of the distributions.  Numpy is a numeric library that has many useful matrices and mathematical functionality."
   ]
  },
  {
   "cell_type": "code",
   "execution_count": 1,
   "metadata": {},
   "outputs": [],
   "source": [
    "import pandas as pd\n",
    "import matplotlib.pyplot as plt\n",
    "import numpy as np"
   ]
  },
  {
   "cell_type": "markdown",
   "metadata": {},
   "source": [
    "Next, we use pandas to load the house price dataset:"
   ]
  },
  {
   "cell_type": "code",
   "execution_count": 2,
   "metadata": {},
   "outputs": [],
   "source": [
    "bostonHouseFrame = pd.read_csv('./BostonHousingPrice/housing.data.csv', delimiter='\\s+')"
   ]
  },
  {
   "cell_type": "markdown",
   "metadata": {},
   "source": [
    "Assuming the dataset is in `./BostonHousingPrice/housing.data.csv`.  Replace this with the relative or absolute path to your files.  We strongly encourage you to look up the documentation of the functions we use in the lab, in this case examine [Pandas read_csv documentation](https://pandas.pydata.org/pandas-docs/stable/reference/api/pandas.read_csv.html).\n",
    "\n",
    "The `read_csv()` command loads the input file, which is a csv formatted file delimited by tabs, into a **Pandas dataframe** (which can be thought of as a table). A dataframe can store the column names as well as the data.  Examine what has been loaded into the dataframe `bostonHouseFrame`."
   ]
  },
  {
   "cell_type": "code",
   "execution_count": null,
   "metadata": {},
   "outputs": [],
   "source": [
    "print(bostonHouseFrame)"
   ]
  },
  {
   "cell_type": "markdown",
   "metadata": {},
   "source": [
    "If you are interested in checking only the first few rows of the dataframe to see if you have read the data in correctly, you can use the `head` method in dataframe."
   ]
  },
  {
   "cell_type": "code",
   "execution_count": null,
   "metadata": {},
   "outputs": [],
   "source": [
    "bostonHouseFrame.head(3)"
   ]
  },
  {
   "cell_type": "markdown",
   "metadata": {},
   "source": [
    "> **<font color='red'><span style=\"font-size:1.5em;\">☞</span> Task: Familiarize yourself with dataframes.</font>**  \n",
    "> Data frames are a very useful tool that will be used throughout the course, and we strongly suggest to familiarise yourselves with it.  Here is some introductory material for it: [Pandas Tutorial: DataFrames in Python](https://www.datacamp.com/community/tutorials/pandas-tutorial-dataframe-python)."
   ]
  },
  {
   "cell_type": "markdown",
   "metadata": {},
   "source": [
    "Now we have loaded the data into a data frame and printed it out, next we will compute some very basic statistics. The abbreviated column names:\n",
    "- CRIM:      per capita crime rate by town\n",
    "- ZN:        proportion of residential land zoned for lots over 25,000 sq.ft.\n",
    "- INDUS:     proportion of non-retail business acres per town\n",
    "- CHAS:      Charles River dummy variable (= 1 if tract bounds river; 0 otherwise)\n",
    "- NOX:       nitric oxides concentration (parts per 10 million)\n",
    "- RM:        average number of rooms per dwelling\n",
    "- AGE:       proportion of owner-occupied units built prior to 1940\n",
    "- DIS:       weighted distances to five Boston employment centres\n",
    "- RAD:       index of accessibility to radial highways\n",
    "- TAX:      full-value property-tax rate per USD10,000\n",
    "- PTRATIO:  pupil-teacher ratio by town\n",
    "- B:        1000 (Bk - 0.63)^2 where Bk is the proportion of blacks by town\n",
    "- LSTAT:    lower status of the population\n",
    "- MEDV:     Median value of owner-occupied homes in USD1000's\n",
    "\n",
    "\n",
    "<font color='green'> The target column is **MEDV** and all the other columns are attributes. </font>\n",
    "\n",
    "Study the variables carefully and understand what they represent before moving to the next section. "
   ]
  },
  {
   "cell_type": "markdown",
   "metadata": {},
   "source": [
    "# Exploratory Data Analysis (EDA)\n",
    "\n",
    "Often the first step in developing a machine learning solution for a given dataset is the EDA. EDA refers to the critical process of performing initial investigations on data so as to:\n",
    " - Maximize insight into a data set;\n",
    " - Uncover underlying structure;\n",
    " - Extract important variables;\n",
    " - Detect outliers and anomalies;\n",
    " - Test underlying assumptions;\n",
    " - Develop parsimonious models; and\n",
    " - Determine optimal factor settings.\n",
    " \n",
    "with the help of summary statistics and graphical representations. The particular graphical techniques employed in EDA are often quite simple, consisting of various techniques of:\n",
    "\n",
    "- Plotting the raw data (such as data traces, histograms, bi-histograms, probability plots, lag plots, block plots, and Youden plots.\n",
    "- Plotting simple statistics such as mean plots, standard deviation plots, box plots, and main effects plots of the raw data.\n",
    "- Positioning such plots so as to maximize our natural pattern-recognition abilities, such as using multiple plots per page.\n"
   ]
  },
  {
   "cell_type": "markdown",
   "metadata": {},
   "source": [
    "> **<span style=\"font-size:1.5em;\">⚠</span> Warning: EDA is a subjective process and will depend on the task & the data you have. There is no globally correct way of doing this.**\n",
    "> Usually you need to have a good understanding of the task before deciding what EDA techniques to use and continuously refine them based on the observations you make in the initial steps. Since we are still at the beginning of the course, let's explore some commonly used techniques. You will understand the significance of these methods and observations in terms of ML in the next couple of weeks."
   ]
  },
  {
   "cell_type": "markdown",
   "metadata": {},
   "source": [
    "Let's first see the shape of the dataframe."
   ]
  },
  {
   "cell_type": "code",
   "execution_count": null,
   "metadata": {},
   "outputs": [],
   "source": [
    "bostonHouseFrame.shape"
   ]
  },
  {
   "cell_type": "markdown",
   "metadata": {},
   "source": [
    "<span style=\"font-size:1.5em;\">�</span> What does the above output tell you?\n",
    "\n",
    "It is also a good practice to know the columns and their corresponding data types, along with finding whether they contain null values or not."
   ]
  },
  {
   "cell_type": "code",
   "execution_count": null,
   "metadata": {},
   "outputs": [],
   "source": [
    "bostonHouseFrame.info()"
   ]
  },
  {
   "cell_type": "markdown",
   "metadata": {},
   "source": [
    "<span style=\"font-size:1.5em;\">�</span> Are there any missing values in the dataset? \n",
    "\n",
    "In pandas any missing values in the data (your input CSV file) is represented as NaN. \n",
    "\n",
    "Next let's compute some summary statistics of the data we have read. The describe() function in pandas is very handy in getting various summary statistics. This function returns the count, mean, standard deviation, minimum and maximum values and the quantiles of the data.\n"
   ]
  },
  {
   "cell_type": "code",
   "execution_count": null,
   "metadata": {},
   "outputs": [],
   "source": [
    "bostonHouseFrame.describe()"
   ]
  },
  {
   "cell_type": "markdown",
   "metadata": {},
   "source": [
    "<span style=\"font-size:1.5em;\">�</span> What insights did you get from the above output? \n",
    "Look closely at attributes `ZN`, and `CHAS`, do you see a difference in those two compared to the others. "
   ]
  },
  {
   "cell_type": "markdown",
   "metadata": {},
   "source": [
    "Data comes in two principle types in statistics, and it is crucial that we recognize the differences between these two types of data.\n",
    "\n",
    "1. Categorical Variables: These are data points that take on a finite number of values, AND whose values do not have a numerical interpretation.\n",
    "\n",
    "    * Ordinal categorical variables take on values which can be logically ordered. For example, the reviews for a product which are given as 0-5 stars. \n",
    "\n",
    "    * Nominal categorical variables cannot be put in any logical order. Examples of this would be the gender, race, etc.\n",
    " \n",
    "2. Numerical Variables: These are variables which are numerical in nature\n",
    "\n",
    "    * Continuous Variables: Take on a continuous values (no breaks). For example, height, weight.\n",
    "\n",
    "    * Discrete numerical variables take on a set of values which can be counted. For example, the number of rooms in a house.\n",
    "\n",
    "<span style=\"font-size:1.5em;\">�</span>Try to identify what type of data is in the `bostonHouseFrame` dataframe.  \n",
    "<span style=\"font-size:1.5em;\">�</span>What is the type of data for CHAS and RAD?"
   ]
  },
  {
   "cell_type": "markdown",
   "metadata": {},
   "source": [
    "## Data Distribution\n",
    "One of the most important step in EDA is estimating the distribution of a variable. Lets begin with histogram plot."
   ]
  },
  {
   "cell_type": "code",
   "execution_count": null,
   "metadata": {},
   "outputs": [],
   "source": [
    "plt.figure(figsize=(20,20))\n",
    "for i, col in enumerate(bostonHouseFrame.columns):\n",
    "    plt.subplot(4,5,i+1)\n",
    "    plt.hist(bostonHouseFrame[col], alpha=0.3, color='b', density=True)\n",
    "    plt.title(col)\n",
    "    plt.xticks(rotation='vertical')"
   ]
  },
  {
   "cell_type": "markdown",
   "metadata": {},
   "source": [
    "> <span style=\"font-size:1.5em;\">⚠</span> **Warning: Always question the bin sizes** of a histogram to see whether they are appropriate for the plot being presented. If you see a histogram with illogically large or small bin sizes and/or uneven bin sizes beware of the results being presented!"
   ]
  },
  {
   "cell_type": "markdown",
   "metadata": {},
   "source": [
    "<span style=\"font-size:1.5em;\">�</span> What observations did you make?"
   ]
  },
  {
   "cell_type": "markdown",
   "metadata": {},
   "source": [
    "> <span style=\"font-size:1em;\">✔</span> **Observations:** \n",
    "> - Attribute CHAS is a categorical variable. Most data instances are from class 0 and only a few instances are from class 1. \n",
    "> - Many attributes are heavily skewed. e.g. CRIM, ZN, DIS, AGE, B ...\n",
    "> - Attributes RAD and TAX has values that are far from the majority values. Further investigations are needed. \n",
    "> - Target variable MEDV is distributed around 22 with some extreme values around 50.\n",
    "> - ..."
   ]
  },
  {
   "cell_type": "markdown",
   "metadata": {},
   "source": [
    "Box plot is another useful tool in examining the data. Lets use a box plot to observe our target variable `MEDV`."
   ]
  },
  {
   "cell_type": "code",
   "execution_count": null,
   "metadata": {},
   "outputs": [],
   "source": [
    "plt.boxplot(bostonHouseFrame['MEDV'])\n",
    "plt.title('Median House Price')\n",
    "plt.show()"
   ]
  },
  {
   "cell_type": "markdown",
   "metadata": {},
   "source": [
    "**How to read Box Plots:**\n",
    "\n",
    "- The thick line in the middle of the box gives the median value.\n",
    "- The top of the box shows  Quantile-.75\n",
    "- The bottom of the box shows  Quantile-.25\n",
    "- So the height of the box in the Inter Quantile Range (IQR)\n",
    "- The top whisker —| shows  Q0.75+1.5∗IQR, the upper cutoff for outliers using Tukey’s rule\n",
    "- The bottom whisker —| shows  Q0.25−1.5∗IQR, the lower cutoff for outliers using Tukey’s rule\n",
    "- Any data points (circles) show outlier values\n",
    "\n",
    "*An outlier is an observation that lies an abnormal distance from other values in a random sample from a population. In a sense, this definition leaves it up to the analyst (or a consensus process) to decide what will be considered abnormal. Before abnormal observations can be singled out, it is necessary to characterize normal observations.*"
   ]
  },
  {
   "cell_type": "markdown",
   "metadata": {},
   "source": [
    "## Relationship between variable\n",
    "\n",
    "In the previous section we observed each attribute (data column) independently. Sometimes it is also useful to observe the relationship between two variables. There are several techniques that we can use for this purpose. One of the key techniques is a scatter plot. \n",
    "\n",
    "Since our task is to predict MEDV (target variable) using all other attributes, let's plot the relationship between MEDV and other columns.\n",
    "\n",
    "For this we can use matplotlib. However there is another python package called seaborn that plots nice looking figures. Seaborn is a Python data visualization library based on matplotlib. It provides a high-level interface for drawing attractive and informative statistical graphics. You can learn more about seaborn at [seaborn: statistical data visualization](https://seaborn.pydata.org/) "
   ]
  },
  {
   "cell_type": "code",
   "execution_count": null,
   "metadata": {},
   "outputs": [],
   "source": [
    "import seaborn as sns\n",
    "plt.figure(figsize=(20,20))\n",
    "for i, col in enumerate(bostonHouseFrame.columns):\n",
    "    plt.subplot(4,5,i+1)\n",
    "    sns.scatterplot(data=bostonHouseFrame, x=col, y='MEDV')\n",
    "    # sns.regplot(x=col,y='MEDV', data=bostonHouseFrame)\n",
    "    plt.title(col)\n",
    "\n",
    "\n",
    "plt.xticks(rotation='vertical')\n",
    "plt.show()"
   ]
  },
  {
   "cell_type": "markdown",
   "metadata": {},
   "source": [
    "We have used the [seaborn scatterplot](https://seaborn.pydata.org/generated/seaborn.scatterplot.html) function above. Explore the function documentation to identify its features. \n",
    "\n",
    "Another tool that can be used is the [seaborn regplot](https://seaborn.pydata.org/generated/seaborn.regplot.html), which also plots data and a linear regression model fit. Try this yourself. "
   ]
  },
  {
   "cell_type": "markdown",
   "metadata": {},
   "source": [
    "<span style=\"font-size:1.5em;\">�</span> What observations did you make?"
   ]
  },
  {
   "cell_type": "markdown",
   "metadata": {},
   "source": [
    "> <span style=\"font-size:1em;\">✔</span> **Observations:** \n",
    "> - There seems to be a good linear relationship between MEDV and RM.\n",
    "> - The relationship between MEDV and some variables appears to be nonlinier (e.g. LSAT).\n",
    "> - ..."
   ]
  },
  {
   "cell_type": "markdown",
   "metadata": {},
   "source": [
    "Scatter plots give good information when the attribute you are examining is numerical. What if there are categorical attributes?\n",
    "\n",
    "If we have categorical attributes and continuous variables we can examine them using a boxplot. Lets see the relationship between MEDV and CHAS"
   ]
  },
  {
   "cell_type": "code",
   "execution_count": null,
   "metadata": {},
   "outputs": [],
   "source": [
    "ax = sns.boxplot(y='MEDV',x='CHAS',data=bostonHouseFrame)\n",
    "ax.set_xticklabels(ax.get_xticklabels(),rotation=90)\n",
    "plt.title('CHAS')\n",
    "\n",
    "plt.xticks(rotation='vertical')\n",
    "plt.show()"
   ]
  },
  {
   "cell_type": "markdown",
   "metadata": {},
   "source": [
    "<span style=\"font-size:1.5em;\">�</span> What observations did you make?"
   ]
  },
  {
   "cell_type": "markdown",
   "metadata": {},
   "source": [
    "> <span style=\"font-size:1em;\">✔</span> **Observations:** \n",
    "> - On average, the house price for data instances with CHAS=1 is higher than for data instances with CHAS=0"
   ]
  },
  {
   "cell_type": "markdown",
   "metadata": {},
   "source": [
    "Correlation is another important statistic when developing ML models. Lets plot the correlation matrix for the numerical data we have:"
   ]
  },
  {
   "cell_type": "code",
   "execution_count": null,
   "metadata": {},
   "outputs": [],
   "source": [
    "import seaborn as sns\n",
    "\n",
    "f, ax = plt.subplots(figsize=(11, 9))\n",
    "corr = bostonHouseFrame.corr()\n",
    "ax = sns.heatmap(\n",
    "    corr, \n",
    "    vmin=-1, vmax=1, center=0,\n",
    "    cmap=sns.diverging_palette(20, 220, n=200),\n",
    "    square=True\n",
    ")\n",
    "ax.set_xticklabels(\n",
    "    ax.get_xticklabels(),\n",
    "    rotation=90,\n",
    "    horizontalalignment='right'\n",
    ");"
   ]
  },
  {
   "cell_type": "markdown",
   "metadata": {},
   "source": [
    "Correlation visualizes the relationship between each column in our dataset in a compact manner. A Simple description of correlation can be found [here](https://www.jmp.com/en_au/statistics-knowledge-portal/what-is-correlation.html#:~:text=Correlation%20is%20a%20statistical%20measure,statement%20about%20cause%20and%20effect.)\n",
    "\n",
    "<span style=\"font-size:1.5em;\">�</span> What observations did you make?"
   ]
  },
  {
   "cell_type": "markdown",
   "metadata": {},
   "source": [
    "> <span style=\"font-size:1em;\">✔</span> **Observations:** \n",
    "> - Some attributes have high correlation between them. e.g. RAD and TAX, TAX and INDUS\n",
    "> - RM has a high positive correlation with the target variable and LSTAT has a high negative correlation\n",
    "> - ..."
   ]
  },
  {
   "cell_type": "markdown",
   "metadata": {},
   "source": [
    "# Exercise: Analyse the Bike Share Data"
   ]
  },
  {
   "cell_type": "markdown",
   "metadata": {},
   "source": [
    "> **<font color='red'><span style=\"font-size:1.5em;\">☞</span> Task: Analyse the Bike Share Data.</font>**  \n",
    "> Now you seen how to do this task for the Bike Sharing (rentals) dataset. Repeat the same process for the Daily\n",
    "Bike Share rental data.\n",
    "\n",
    "> Answer the following questions and discuss this with your lab demonstrator. Please do attempt this, and don’t wait to see if solutions are released (they will not be!)\n",
    "> - What is the range of some of the attributes?\n",
    "> - Which of the features have a very different average to the others?\n",
    "> - Which feature is skewed (hint examine the histogram)?\n",
    "> - Which features are highly correlated?  \n",
    "\n",
    "> Relate above questions back to the domain of the dataset (bike sharing) and see if you can come up with\n",
    "explanations for the observed data."
   ]
  }
 ],
 "metadata": {
  "kernelspec": {
   "display_name": "Python 3",
   "language": "python",
   "name": "python3"
  },
  "language_info": {
   "codemirror_mode": {
    "name": "ipython",
    "version": 3
   },
   "file_extension": ".py",
   "mimetype": "text/x-python",
   "name": "python",
   "nbconvert_exporter": "python",
   "pygments_lexer": "ipython3",
   "version": "3.8.5"
  }
 },
 "nbformat": 4,
 "nbformat_minor": 4
}
